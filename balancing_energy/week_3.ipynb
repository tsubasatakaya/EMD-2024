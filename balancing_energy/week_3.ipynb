{
 "cells": [
  {
   "cell_type": "code",
   "id": "initial_id",
   "metadata": {
    "collapsed": true,
    "ExecuteTime": {
     "end_time": "2024-09-17T16:06:23.474239Z",
     "start_time": "2024-09-17T16:06:23.428243Z"
    }
   },
   "source": [
    "import os\n",
    "from os import listdir\n",
    "from pathlib import Path\n",
    "\n",
    "from datetime import datetime\n",
    "import pytz\n",
    "import pendulum\n",
    "\n",
    "import polars as pl\n",
    "import pandas as pd\n",
    "import numpy as np\n",
    "import matplotlib.pyplot as plt\n",
    "import seaborn as sns\n",
    "\n",
    "sns.set_style(\"whitegrid\")"
   ],
   "outputs": [],
   "execution_count": 13
  },
  {
   "metadata": {
    "ExecuteTime": {
     "end_time": "2024-09-17T16:46:52.560779Z",
     "start_time": "2024-09-17T16:46:52.463230Z"
    }
   },
   "cell_type": "code",
   "source": [
    "df_all = []\n",
    "\n",
    "columns_to_read = [\"DATE_FROM\", \"DATE_TO\", \"PRODUCT_TYPE\", \"TENDER_NUMBER\",\t\"PRODUCTNAME\",\n",
    "                   \"GERMANY_DEMAND_[MW]\", \"GERMANY_SETTLEMENTCAPACITY_PRICE_[EUR/MW]\",\n",
    "                   \"GERMANY_DEFICIT(-)_SURPLUS(+)_[MW]\"]\n",
    "data = pl.read_excel(\"data/RESULT_OVERVIEW_CAPACITY_MARKET_FCR_2023-01-01_2023-12-31.xlsx\",\n",
    "                     columns=columns_to_read).rename({\n",
    "    \"DATE_FROM\": \"start_date\",\n",
    "    \"DATE_TO\": \"end_date\",\n",
    "    \"PRODUCT_TYPE\": \"product_type\",\n",
    "    \"TENDER_NUMBER\": \"tender_number\",\n",
    "    \"PRODUCTNAME\": \"productname\",\n",
    "    \"GERMANY_DEMAND_[MW]\": \"demand_mw\",\n",
    "    \"GERMANY_SETTLEMENTCAPACITY_PRICE_[EUR/MW]\": \"cap_price\",\n",
    "    \"GERMANY_DEFICIT(-)_SURPLUS(+)_[MW]\": \"surplus_mw\",\n",
    "})\n",
    "\n",
    "data = data.filter(pl.col(\"cap_price\").is_not_null())"
   ],
   "id": "e5d74cd565589b0b",
   "outputs": [],
   "execution_count": 42
  },
  {
   "metadata": {
    "ExecuteTime": {
     "end_time": "2024-09-17T16:46:53.682708Z",
     "start_time": "2024-09-17T16:46:53.651457Z"
    }
   },
   "cell_type": "code",
   "source": "data.to_pandas().info()",
   "id": "9d002f720dada467",
   "outputs": [
    {
     "name": "stdout",
     "output_type": "stream",
     "text": [
      "<class 'pandas.core.frame.DataFrame'>\n",
      "RangeIndex: 2190 entries, 0 to 2189\n",
      "Data columns (total 8 columns):\n",
      " #   Column         Non-Null Count  Dtype         \n",
      "---  ------         --------------  -----         \n",
      " 0   start_date     2190 non-null   datetime64[ms]\n",
      " 1   end_date       2190 non-null   datetime64[ms]\n",
      " 2   product_type   2190 non-null   object        \n",
      " 3   tender_number  2190 non-null   int64         \n",
      " 4   productname    2190 non-null   object        \n",
      " 5   demand_mw      2190 non-null   int64         \n",
      " 6   cap_price      2190 non-null   float64       \n",
      " 7   surplus_mw     2190 non-null   int64         \n",
      "dtypes: datetime64[ms](2), float64(1), int64(3), object(2)\n",
      "memory usage: 137.0+ KB\n"
     ]
    }
   ],
   "execution_count": 43
  },
  {
   "metadata": {},
   "cell_type": "code",
   "outputs": [],
   "execution_count": null,
   "source": "",
   "id": "5ebc27f7fe2e5211"
  }
 ],
 "metadata": {
  "kernelspec": {
   "display_name": "Python 3",
   "language": "python",
   "name": "python3"
  },
  "language_info": {
   "codemirror_mode": {
    "name": "ipython",
    "version": 2
   },
   "file_extension": ".py",
   "mimetype": "text/x-python",
   "name": "python",
   "nbconvert_exporter": "python",
   "pygments_lexer": "ipython2",
   "version": "2.7.6"
  }
 },
 "nbformat": 4,
 "nbformat_minor": 5
}
